{
 "cells": [
  {
   "cell_type": "markdown",
   "id": "imperial-brother",
   "metadata": {},
   "source": [
    "# pandas"
   ]
  },
  {
   "cell_type": "code",
   "execution_count": 1,
   "id": "continuous-hazard",
   "metadata": {},
   "outputs": [],
   "source": [
    "import numpy as np\n",
    "import pandas as pd"
   ]
  },
  {
   "cell_type": "code",
   "execution_count": 2,
   "id": "regulated-radiation",
   "metadata": {},
   "outputs": [],
   "source": [
    "dict1 = {\n",
    "    \"name\" : ['gaurav','rohan','skillf','shubh'],\n",
    "    \"marks\" : [92,34,24,17],\n",
    "    \"city\" : ['rampur','kolkata','bareli','antarctica']\n",
    "}"
   ]
  },
  {
   "cell_type": "code",
   "execution_count": 3,
   "id": "increasing-wings",
   "metadata": {},
   "outputs": [],
   "source": [
    "df = pd.DataFrame(dict1)"
   ]
  },
  {
   "cell_type": "code",
   "execution_count": 4,
   "id": "rotary-noise",
   "metadata": {},
   "outputs": [
    {
     "data": {
      "text/html": [
       "<div>\n",
       "<style scoped>\n",
       "    .dataframe tbody tr th:only-of-type {\n",
       "        vertical-align: middle;\n",
       "    }\n",
       "\n",
       "    .dataframe tbody tr th {\n",
       "        vertical-align: top;\n",
       "    }\n",
       "\n",
       "    .dataframe thead th {\n",
       "        text-align: right;\n",
       "    }\n",
       "</style>\n",
       "<table border=\"1\" class=\"dataframe\">\n",
       "  <thead>\n",
       "    <tr style=\"text-align: right;\">\n",
       "      <th></th>\n",
       "      <th>name</th>\n",
       "      <th>marks</th>\n",
       "      <th>city</th>\n",
       "    </tr>\n",
       "  </thead>\n",
       "  <tbody>\n",
       "    <tr>\n",
       "      <th>0</th>\n",
       "      <td>gaurav</td>\n",
       "      <td>92</td>\n",
       "      <td>rampur</td>\n",
       "    </tr>\n",
       "    <tr>\n",
       "      <th>1</th>\n",
       "      <td>rohan</td>\n",
       "      <td>34</td>\n",
       "      <td>kolkata</td>\n",
       "    </tr>\n",
       "    <tr>\n",
       "      <th>2</th>\n",
       "      <td>skillf</td>\n",
       "      <td>24</td>\n",
       "      <td>bareli</td>\n",
       "    </tr>\n",
       "    <tr>\n",
       "      <th>3</th>\n",
       "      <td>shubh</td>\n",
       "      <td>17</td>\n",
       "      <td>antarctica</td>\n",
       "    </tr>\n",
       "  </tbody>\n",
       "</table>\n",
       "</div>"
      ],
      "text/plain": [
       "     name  marks        city\n",
       "0  gaurav     92      rampur\n",
       "1   rohan     34     kolkata\n",
       "2  skillf     24      bareli\n",
       "3   shubh     17  antarctica"
      ]
     },
     "execution_count": 4,
     "metadata": {},
     "output_type": "execute_result"
    }
   ],
   "source": [
    "df"
   ]
  },
  {
   "cell_type": "code",
   "execution_count": 5,
   "id": "unavailable-ancient",
   "metadata": {},
   "outputs": [],
   "source": [
    "df.to_csv('data.csv')"
   ]
  },
  {
   "cell_type": "code",
   "execution_count": 15,
   "id": "prompt-mystery",
   "metadata": {},
   "outputs": [],
   "source": [
    "df.to_csv('data_index_false.csv',index=False)"
   ]
  },
  {
   "cell_type": "code",
   "execution_count": 17,
   "id": "extended-language",
   "metadata": {},
   "outputs": [
    {
     "data": {
      "text/html": [
       "<div>\n",
       "<style scoped>\n",
       "    .dataframe tbody tr th:only-of-type {\n",
       "        vertical-align: middle;\n",
       "    }\n",
       "\n",
       "    .dataframe tbody tr th {\n",
       "        vertical-align: top;\n",
       "    }\n",
       "\n",
       "    .dataframe thead th {\n",
       "        text-align: right;\n",
       "    }\n",
       "</style>\n",
       "<table border=\"1\" class=\"dataframe\">\n",
       "  <thead>\n",
       "    <tr style=\"text-align: right;\">\n",
       "      <th></th>\n",
       "      <th>name</th>\n",
       "      <th>marks</th>\n",
       "      <th>city</th>\n",
       "    </tr>\n",
       "  </thead>\n",
       "  <tbody>\n",
       "    <tr>\n",
       "      <th>0</th>\n",
       "      <td>gaurav</td>\n",
       "      <td>92</td>\n",
       "      <td>rampur</td>\n",
       "    </tr>\n",
       "    <tr>\n",
       "      <th>1</th>\n",
       "      <td>rohan</td>\n",
       "      <td>34</td>\n",
       "      <td>kolkata</td>\n",
       "    </tr>\n",
       "  </tbody>\n",
       "</table>\n",
       "</div>"
      ],
      "text/plain": [
       "     name  marks     city\n",
       "0  gaurav     92   rampur\n",
       "1   rohan     34  kolkata"
      ]
     },
     "execution_count": 17,
     "metadata": {},
     "output_type": "execute_result"
    }
   ],
   "source": [
    "df.head(2)"
   ]
  },
  {
   "cell_type": "code",
   "execution_count": 8,
   "id": "cardiovascular-duplicate",
   "metadata": {},
   "outputs": [
    {
     "data": {
      "text/html": [
       "<div>\n",
       "<style scoped>\n",
       "    .dataframe tbody tr th:only-of-type {\n",
       "        vertical-align: middle;\n",
       "    }\n",
       "\n",
       "    .dataframe tbody tr th {\n",
       "        vertical-align: top;\n",
       "    }\n",
       "\n",
       "    .dataframe thead th {\n",
       "        text-align: right;\n",
       "    }\n",
       "</style>\n",
       "<table border=\"1\" class=\"dataframe\">\n",
       "  <thead>\n",
       "    <tr style=\"text-align: right;\">\n",
       "      <th></th>\n",
       "      <th>name</th>\n",
       "      <th>marks</th>\n",
       "      <th>city</th>\n",
       "    </tr>\n",
       "  </thead>\n",
       "  <tbody>\n",
       "    <tr>\n",
       "      <th>2</th>\n",
       "      <td>skillf</td>\n",
       "      <td>24</td>\n",
       "      <td>bareli</td>\n",
       "    </tr>\n",
       "    <tr>\n",
       "      <th>3</th>\n",
       "      <td>shubh</td>\n",
       "      <td>17</td>\n",
       "      <td>antarctica</td>\n",
       "    </tr>\n",
       "  </tbody>\n",
       "</table>\n",
       "</div>"
      ],
      "text/plain": [
       "     name  marks        city\n",
       "2  skillf     24      bareli\n",
       "3   shubh     17  antarctica"
      ]
     },
     "execution_count": 8,
     "metadata": {},
     "output_type": "execute_result"
    }
   ],
   "source": [
    "df.tail(2)"
   ]
  },
  {
   "cell_type": "code",
   "execution_count": 9,
   "id": "integrated-preview",
   "metadata": {},
   "outputs": [
    {
     "data": {
      "text/html": [
       "<div>\n",
       "<style scoped>\n",
       "    .dataframe tbody tr th:only-of-type {\n",
       "        vertical-align: middle;\n",
       "    }\n",
       "\n",
       "    .dataframe tbody tr th {\n",
       "        vertical-align: top;\n",
       "    }\n",
       "\n",
       "    .dataframe thead th {\n",
       "        text-align: right;\n",
       "    }\n",
       "</style>\n",
       "<table border=\"1\" class=\"dataframe\">\n",
       "  <thead>\n",
       "    <tr style=\"text-align: right;\">\n",
       "      <th></th>\n",
       "      <th>marks</th>\n",
       "    </tr>\n",
       "  </thead>\n",
       "  <tbody>\n",
       "    <tr>\n",
       "      <th>count</th>\n",
       "      <td>4.00000</td>\n",
       "    </tr>\n",
       "    <tr>\n",
       "      <th>mean</th>\n",
       "      <td>41.75000</td>\n",
       "    </tr>\n",
       "    <tr>\n",
       "      <th>std</th>\n",
       "      <td>34.21866</td>\n",
       "    </tr>\n",
       "    <tr>\n",
       "      <th>min</th>\n",
       "      <td>17.00000</td>\n",
       "    </tr>\n",
       "    <tr>\n",
       "      <th>25%</th>\n",
       "      <td>22.25000</td>\n",
       "    </tr>\n",
       "    <tr>\n",
       "      <th>50%</th>\n",
       "      <td>29.00000</td>\n",
       "    </tr>\n",
       "    <tr>\n",
       "      <th>75%</th>\n",
       "      <td>48.50000</td>\n",
       "    </tr>\n",
       "    <tr>\n",
       "      <th>max</th>\n",
       "      <td>92.00000</td>\n",
       "    </tr>\n",
       "  </tbody>\n",
       "</table>\n",
       "</div>"
      ],
      "text/plain": [
       "          marks\n",
       "count   4.00000\n",
       "mean   41.75000\n",
       "std    34.21866\n",
       "min    17.00000\n",
       "25%    22.25000\n",
       "50%    29.00000\n",
       "75%    48.50000\n",
       "max    92.00000"
      ]
     },
     "execution_count": 9,
     "metadata": {},
     "output_type": "execute_result"
    }
   ],
   "source": [
    "df.describe()"
   ]
  },
  {
   "cell_type": "code",
   "execution_count": 10,
   "id": "further-happiness",
   "metadata": {},
   "outputs": [],
   "source": [
    "gaurav = pd.read_csv('gaurav.csv')"
   ]
  },
  {
   "cell_type": "code",
   "execution_count": 11,
   "id": "located-mozambique",
   "metadata": {},
   "outputs": [
    {
     "data": {
      "text/html": [
       "<div>\n",
       "<style scoped>\n",
       "    .dataframe tbody tr th:only-of-type {\n",
       "        vertical-align: middle;\n",
       "    }\n",
       "\n",
       "    .dataframe tbody tr th {\n",
       "        vertical-align: top;\n",
       "    }\n",
       "\n",
       "    .dataframe thead th {\n",
       "        text-align: right;\n",
       "    }\n",
       "</style>\n",
       "<table border=\"1\" class=\"dataframe\">\n",
       "  <thead>\n",
       "    <tr style=\"text-align: right;\">\n",
       "      <th></th>\n",
       "      <th>Train No2</th>\n",
       "      <th>Speed2</th>\n",
       "      <th>city2</th>\n",
       "    </tr>\n",
       "  </thead>\n",
       "  <tbody>\n",
       "    <tr>\n",
       "      <th>0</th>\n",
       "      <td>123</td>\n",
       "      <td>50</td>\n",
       "      <td>rampur</td>\n",
       "    </tr>\n",
       "    <tr>\n",
       "      <th>1</th>\n",
       "      <td>34545</td>\n",
       "      <td>34</td>\n",
       "      <td>kolkata</td>\n",
       "    </tr>\n",
       "    <tr>\n",
       "      <th>2</th>\n",
       "      <td>34333</td>\n",
       "      <td>56</td>\n",
       "      <td>bareli</td>\n",
       "    </tr>\n",
       "    <tr>\n",
       "      <th>3</th>\n",
       "      <td>2323</td>\n",
       "      <td>43</td>\n",
       "      <td>antarctica</td>\n",
       "    </tr>\n",
       "  </tbody>\n",
       "</table>\n",
       "</div>"
      ],
      "text/plain": [
       "   Train No2  Speed2       city2\n",
       "0        123      50      rampur\n",
       "1      34545      34     kolkata\n",
       "2      34333      56      bareli\n",
       "3       2323      43  antarctica"
      ]
     },
     "execution_count": 11,
     "metadata": {},
     "output_type": "execute_result"
    }
   ],
   "source": [
    "gaurav"
   ]
  },
  {
   "cell_type": "code",
   "execution_count": 12,
   "id": "narrow-scanning",
   "metadata": {
    "scrolled": false
   },
   "outputs": [
    {
     "ename": "KeyError",
     "evalue": "'Speed'",
     "output_type": "error",
     "traceback": [
      "\u001b[1;31m---------------------------------------------------------------------------\u001b[0m",
      "\u001b[1;31mKeyError\u001b[0m                                  Traceback (most recent call last)",
      "\u001b[1;32mc:\\users\\gaurav\\appdata\\local\\programs\\python\\python39\\lib\\site-packages\\pandas\\core\\indexes\\base.py\u001b[0m in \u001b[0;36mget_loc\u001b[1;34m(self, key, method, tolerance)\u001b[0m\n\u001b[0;32m   3360\u001b[0m             \u001b[1;32mtry\u001b[0m\u001b[1;33m:\u001b[0m\u001b[1;33m\u001b[0m\u001b[1;33m\u001b[0m\u001b[0m\n\u001b[1;32m-> 3361\u001b[1;33m                 \u001b[1;32mreturn\u001b[0m \u001b[0mself\u001b[0m\u001b[1;33m.\u001b[0m\u001b[0m_engine\u001b[0m\u001b[1;33m.\u001b[0m\u001b[0mget_loc\u001b[0m\u001b[1;33m(\u001b[0m\u001b[0mcasted_key\u001b[0m\u001b[1;33m)\u001b[0m\u001b[1;33m\u001b[0m\u001b[1;33m\u001b[0m\u001b[0m\n\u001b[0m\u001b[0;32m   3362\u001b[0m             \u001b[1;32mexcept\u001b[0m \u001b[0mKeyError\u001b[0m \u001b[1;32mas\u001b[0m \u001b[0merr\u001b[0m\u001b[1;33m:\u001b[0m\u001b[1;33m\u001b[0m\u001b[1;33m\u001b[0m\u001b[0m\n",
      "\u001b[1;32mc:\\users\\gaurav\\appdata\\local\\programs\\python\\python39\\lib\\site-packages\\pandas\\_libs\\index.pyx\u001b[0m in \u001b[0;36mpandas._libs.index.IndexEngine.get_loc\u001b[1;34m()\u001b[0m\n",
      "\u001b[1;32mc:\\users\\gaurav\\appdata\\local\\programs\\python\\python39\\lib\\site-packages\\pandas\\_libs\\index.pyx\u001b[0m in \u001b[0;36mpandas._libs.index.IndexEngine.get_loc\u001b[1;34m()\u001b[0m\n",
      "\u001b[1;32mpandas\\_libs\\hashtable_class_helper.pxi\u001b[0m in \u001b[0;36mpandas._libs.hashtable.PyObjectHashTable.get_item\u001b[1;34m()\u001b[0m\n",
      "\u001b[1;32mpandas\\_libs\\hashtable_class_helper.pxi\u001b[0m in \u001b[0;36mpandas._libs.hashtable.PyObjectHashTable.get_item\u001b[1;34m()\u001b[0m\n",
      "\u001b[1;31mKeyError\u001b[0m: 'Speed'",
      "\nThe above exception was the direct cause of the following exception:\n",
      "\u001b[1;31mKeyError\u001b[0m                                  Traceback (most recent call last)",
      "\u001b[1;32m<ipython-input-12-886ff29410e1>\u001b[0m in \u001b[0;36m<module>\u001b[1;34m\u001b[0m\n\u001b[1;32m----> 1\u001b[1;33m \u001b[0mgaurav\u001b[0m\u001b[1;33m[\u001b[0m\u001b[1;34m'Speed'\u001b[0m\u001b[1;33m]\u001b[0m\u001b[1;33m[\u001b[0m\u001b[1;36m0\u001b[0m\u001b[1;33m]\u001b[0m \u001b[1;33m=\u001b[0m \u001b[1;36m50\u001b[0m\u001b[1;33m\u001b[0m\u001b[1;33m\u001b[0m\u001b[0m\n\u001b[0m",
      "\u001b[1;32mc:\\users\\gaurav\\appdata\\local\\programs\\python\\python39\\lib\\site-packages\\pandas\\core\\frame.py\u001b[0m in \u001b[0;36m__getitem__\u001b[1;34m(self, key)\u001b[0m\n\u001b[0;32m   3456\u001b[0m             \u001b[1;32mif\u001b[0m \u001b[0mself\u001b[0m\u001b[1;33m.\u001b[0m\u001b[0mcolumns\u001b[0m\u001b[1;33m.\u001b[0m\u001b[0mnlevels\u001b[0m \u001b[1;33m>\u001b[0m \u001b[1;36m1\u001b[0m\u001b[1;33m:\u001b[0m\u001b[1;33m\u001b[0m\u001b[1;33m\u001b[0m\u001b[0m\n\u001b[0;32m   3457\u001b[0m                 \u001b[1;32mreturn\u001b[0m \u001b[0mself\u001b[0m\u001b[1;33m.\u001b[0m\u001b[0m_getitem_multilevel\u001b[0m\u001b[1;33m(\u001b[0m\u001b[0mkey\u001b[0m\u001b[1;33m)\u001b[0m\u001b[1;33m\u001b[0m\u001b[1;33m\u001b[0m\u001b[0m\n\u001b[1;32m-> 3458\u001b[1;33m             \u001b[0mindexer\u001b[0m \u001b[1;33m=\u001b[0m \u001b[0mself\u001b[0m\u001b[1;33m.\u001b[0m\u001b[0mcolumns\u001b[0m\u001b[1;33m.\u001b[0m\u001b[0mget_loc\u001b[0m\u001b[1;33m(\u001b[0m\u001b[0mkey\u001b[0m\u001b[1;33m)\u001b[0m\u001b[1;33m\u001b[0m\u001b[1;33m\u001b[0m\u001b[0m\n\u001b[0m\u001b[0;32m   3459\u001b[0m             \u001b[1;32mif\u001b[0m \u001b[0mis_integer\u001b[0m\u001b[1;33m(\u001b[0m\u001b[0mindexer\u001b[0m\u001b[1;33m)\u001b[0m\u001b[1;33m:\u001b[0m\u001b[1;33m\u001b[0m\u001b[1;33m\u001b[0m\u001b[0m\n\u001b[0;32m   3460\u001b[0m                 \u001b[0mindexer\u001b[0m \u001b[1;33m=\u001b[0m \u001b[1;33m[\u001b[0m\u001b[0mindexer\u001b[0m\u001b[1;33m]\u001b[0m\u001b[1;33m\u001b[0m\u001b[1;33m\u001b[0m\u001b[0m\n",
      "\u001b[1;32mc:\\users\\gaurav\\appdata\\local\\programs\\python\\python39\\lib\\site-packages\\pandas\\core\\indexes\\base.py\u001b[0m in \u001b[0;36mget_loc\u001b[1;34m(self, key, method, tolerance)\u001b[0m\n\u001b[0;32m   3361\u001b[0m                 \u001b[1;32mreturn\u001b[0m \u001b[0mself\u001b[0m\u001b[1;33m.\u001b[0m\u001b[0m_engine\u001b[0m\u001b[1;33m.\u001b[0m\u001b[0mget_loc\u001b[0m\u001b[1;33m(\u001b[0m\u001b[0mcasted_key\u001b[0m\u001b[1;33m)\u001b[0m\u001b[1;33m\u001b[0m\u001b[1;33m\u001b[0m\u001b[0m\n\u001b[0;32m   3362\u001b[0m             \u001b[1;32mexcept\u001b[0m \u001b[0mKeyError\u001b[0m \u001b[1;32mas\u001b[0m \u001b[0merr\u001b[0m\u001b[1;33m:\u001b[0m\u001b[1;33m\u001b[0m\u001b[1;33m\u001b[0m\u001b[0m\n\u001b[1;32m-> 3363\u001b[1;33m                 \u001b[1;32mraise\u001b[0m \u001b[0mKeyError\u001b[0m\u001b[1;33m(\u001b[0m\u001b[0mkey\u001b[0m\u001b[1;33m)\u001b[0m \u001b[1;32mfrom\u001b[0m \u001b[0merr\u001b[0m\u001b[1;33m\u001b[0m\u001b[1;33m\u001b[0m\u001b[0m\n\u001b[0m\u001b[0;32m   3364\u001b[0m \u001b[1;33m\u001b[0m\u001b[0m\n\u001b[0;32m   3365\u001b[0m         \u001b[1;32mif\u001b[0m \u001b[0mis_scalar\u001b[0m\u001b[1;33m(\u001b[0m\u001b[0mkey\u001b[0m\u001b[1;33m)\u001b[0m \u001b[1;32mand\u001b[0m \u001b[0misna\u001b[0m\u001b[1;33m(\u001b[0m\u001b[0mkey\u001b[0m\u001b[1;33m)\u001b[0m \u001b[1;32mand\u001b[0m \u001b[1;32mnot\u001b[0m \u001b[0mself\u001b[0m\u001b[1;33m.\u001b[0m\u001b[0mhasnans\u001b[0m\u001b[1;33m:\u001b[0m\u001b[1;33m\u001b[0m\u001b[1;33m\u001b[0m\u001b[0m\n",
      "\u001b[1;31mKeyError\u001b[0m: 'Speed'"
     ]
    }
   ],
   "source": [
    "gaurav['Speed'][0] = 50"
   ]
  },
  {
   "cell_type": "code",
   "execution_count": null,
   "id": "pleased-interest",
   "metadata": {},
   "outputs": [],
   "source": [
    "gaurav['Speed']"
   ]
  },
  {
   "cell_type": "code",
   "execution_count": null,
   "id": "exposed-scroll",
   "metadata": {},
   "outputs": [],
   "source": [
    "gaurav"
   ]
  },
  {
   "cell_type": "code",
   "execution_count": null,
   "id": "partial-claim",
   "metadata": {},
   "outputs": [],
   "source": [
    "gaurav.to_csv('gaurav.csv')"
   ]
  },
  {
   "cell_type": "code",
   "execution_count": 19,
   "id": "acute-skill",
   "metadata": {},
   "outputs": [],
   "source": [
    "gaurav.index = ['I','II','III','IV']"
   ]
  },
  {
   "cell_type": "code",
   "execution_count": 20,
   "id": "committed-prairie",
   "metadata": {},
   "outputs": [
    {
     "data": {
      "text/html": [
       "<div>\n",
       "<style scoped>\n",
       "    .dataframe tbody tr th:only-of-type {\n",
       "        vertical-align: middle;\n",
       "    }\n",
       "\n",
       "    .dataframe tbody tr th {\n",
       "        vertical-align: top;\n",
       "    }\n",
       "\n",
       "    .dataframe thead th {\n",
       "        text-align: right;\n",
       "    }\n",
       "</style>\n",
       "<table border=\"1\" class=\"dataframe\">\n",
       "  <thead>\n",
       "    <tr style=\"text-align: right;\">\n",
       "      <th></th>\n",
       "      <th>Train No2</th>\n",
       "      <th>Speed2</th>\n",
       "      <th>city2</th>\n",
       "    </tr>\n",
       "  </thead>\n",
       "  <tbody>\n",
       "    <tr>\n",
       "      <th>I</th>\n",
       "      <td>123</td>\n",
       "      <td>50</td>\n",
       "      <td>rampur</td>\n",
       "    </tr>\n",
       "    <tr>\n",
       "      <th>II</th>\n",
       "      <td>34545</td>\n",
       "      <td>34</td>\n",
       "      <td>kolkata</td>\n",
       "    </tr>\n",
       "    <tr>\n",
       "      <th>III</th>\n",
       "      <td>34333</td>\n",
       "      <td>56</td>\n",
       "      <td>bareli</td>\n",
       "    </tr>\n",
       "    <tr>\n",
       "      <th>IV</th>\n",
       "      <td>2323</td>\n",
       "      <td>43</td>\n",
       "      <td>antarctica</td>\n",
       "    </tr>\n",
       "  </tbody>\n",
       "</table>\n",
       "</div>"
      ],
      "text/plain": [
       "     Train No2  Speed2       city2\n",
       "I          123      50      rampur\n",
       "II       34545      34     kolkata\n",
       "III      34333      56      bareli\n",
       "IV        2323      43  antarctica"
      ]
     },
     "execution_count": 20,
     "metadata": {},
     "output_type": "execute_result"
    }
   ],
   "source": [
    "gaurav"
   ]
  },
  {
   "cell_type": "code",
   "execution_count": null,
   "id": "tested-departure",
   "metadata": {},
   "outputs": [],
   "source": [
    "gaurav.Speed"
   ]
  },
  {
   "cell_type": "code",
   "execution_count": null,
   "id": "executive-champion",
   "metadata": {},
   "outputs": [],
   "source": [
    "gaurav.describe()"
   ]
  },
  {
   "cell_type": "code",
   "execution_count": null,
   "id": "laden-capitol",
   "metadata": {},
   "outputs": [],
   "source": [
    "ser = pd.Series(np.random.rand(20))"
   ]
  },
  {
   "cell_type": "code",
   "execution_count": null,
   "id": "incomplete-snake",
   "metadata": {},
   "outputs": [],
   "source": [
    "type(ser)"
   ]
  },
  {
   "cell_type": "code",
   "execution_count": null,
   "id": "experimental-contribution",
   "metadata": {},
   "outputs": [],
   "source": [
    "newdf = pd.DataFrame(np.random.rand(334,5),index=np.arange(334))"
   ]
  },
  {
   "cell_type": "code",
   "execution_count": null,
   "id": "acting-guitar",
   "metadata": {},
   "outputs": [],
   "source": [
    "type(newdf)\n",
    "newdf.head()"
   ]
  },
  {
   "cell_type": "code",
   "execution_count": null,
   "id": "incomplete-heater",
   "metadata": {},
   "outputs": [],
   "source": [
    "newdf.describe()"
   ]
  },
  {
   "cell_type": "code",
   "execution_count": null,
   "id": "crazy-freeze",
   "metadata": {},
   "outputs": [],
   "source": [
    "newdf.dtypes"
   ]
  },
  {
   "cell_type": "code",
   "execution_count": null,
   "id": "obvious-heather",
   "metadata": {},
   "outputs": [],
   "source": [
    "newdf[0][0] = \"gaurav\""
   ]
  },
  {
   "cell_type": "code",
   "execution_count": null,
   "id": "powerful-lesbian",
   "metadata": {},
   "outputs": [],
   "source": [
    "newdf.dtypes"
   ]
  },
  {
   "cell_type": "code",
   "execution_count": null,
   "id": "reverse-shoot",
   "metadata": {},
   "outputs": [],
   "source": [
    "newdf.head()"
   ]
  },
  {
   "cell_type": "code",
   "execution_count": null,
   "id": "departmental-wales",
   "metadata": {},
   "outputs": [],
   "source": [
    "newdf.index"
   ]
  },
  {
   "cell_type": "code",
   "execution_count": null,
   "id": "coated-lawrence",
   "metadata": {},
   "outputs": [],
   "source": [
    "newdf.columns"
   ]
  },
  {
   "cell_type": "code",
   "execution_count": null,
   "id": "beginning-confidentiality",
   "metadata": {},
   "outputs": [],
   "source": [
    "newdf.to_numpy()"
   ]
  },
  {
   "cell_type": "code",
   "execution_count": null,
   "id": "dramatic-mother",
   "metadata": {},
   "outputs": [],
   "source": [
    "newdf[0][0] = 0.3"
   ]
  },
  {
   "cell_type": "code",
   "execution_count": null,
   "id": "toxic-acquisition",
   "metadata": {},
   "outputs": [],
   "source": [
    "newdf.head()"
   ]
  },
  {
   "cell_type": "code",
   "execution_count": null,
   "id": "colored-rover",
   "metadata": {},
   "outputs": [],
   "source": [
    "newdf.T"
   ]
  },
  {
   "cell_type": "code",
   "execution_count": null,
   "id": "current-allocation",
   "metadata": {},
   "outputs": [],
   "source": [
    "newdf.head()"
   ]
  },
  {
   "cell_type": "code",
   "execution_count": null,
   "id": "married-portugal",
   "metadata": {},
   "outputs": [],
   "source": [
    "newdf.sort_index(axis=1, ascending=False).head()"
   ]
  },
  {
   "cell_type": "code",
   "execution_count": null,
   "id": "abroad-bahrain",
   "metadata": {},
   "outputs": [],
   "source": [
    "type(newdf['A'])"
   ]
  },
  {
   "cell_type": "code",
   "execution_count": null,
   "id": "precious-artwork",
   "metadata": {},
   "outputs": [],
   "source": [
    "newdf.head()"
   ]
  },
  {
   "cell_type": "code",
   "execution_count": null,
   "id": "loved-cheat",
   "metadata": {},
   "outputs": [],
   "source": [
    "newdf2 = newdf.copy()"
   ]
  },
  {
   "cell_type": "code",
   "execution_count": null,
   "id": "median-active",
   "metadata": {},
   "outputs": [],
   "source": [
    "newdf2[0][0] = 345358"
   ]
  },
  {
   "cell_type": "code",
   "execution_count": null,
   "id": "selected-flexibility",
   "metadata": {},
   "outputs": [],
   "source": [
    "newdf"
   ]
  },
  {
   "cell_type": "code",
   "execution_count": null,
   "id": "premium-belief",
   "metadata": {},
   "outputs": [],
   "source": [
    "newdf.loc[0,0] = 654"
   ]
  },
  {
   "cell_type": "code",
   "execution_count": null,
   "id": "referenced-relation",
   "metadata": {},
   "outputs": [],
   "source": [
    "newdf.head(2)"
   ]
  },
  {
   "cell_type": "code",
   "execution_count": null,
   "id": "crude-delaware",
   "metadata": {},
   "outputs": [],
   "source": [
    "newdf.columns = list('ABCDE')"
   ]
  },
  {
   "cell_type": "code",
   "execution_count": null,
   "id": "moderate-particle",
   "metadata": {},
   "outputs": [],
   "source": [
    "newdf.head(2)"
   ]
  },
  {
   "cell_type": "code",
   "execution_count": null,
   "id": "controlled-induction",
   "metadata": {},
   "outputs": [],
   "source": [
    "newdf.loc[0,0] = 3445"
   ]
  },
  {
   "cell_type": "code",
   "execution_count": null,
   "id": "paperback-hughes",
   "metadata": {},
   "outputs": [],
   "source": [
    "newdf"
   ]
  },
  {
   "cell_type": "code",
   "execution_count": null,
   "id": "directed-offering",
   "metadata": {},
   "outputs": [],
   "source": [
    "newdf = newdf.drop(0,axis=1)"
   ]
  },
  {
   "cell_type": "code",
   "execution_count": null,
   "id": "infinite-crowd",
   "metadata": {},
   "outputs": [],
   "source": [
    "newdf.head()"
   ]
  },
  {
   "cell_type": "code",
   "execution_count": null,
   "id": "unlikely-speaker",
   "metadata": {},
   "outputs": [],
   "source": [
    "newdf.loc[[1,2],['C','D']]"
   ]
  },
  {
   "cell_type": "code",
   "execution_count": null,
   "id": "superior-diamond",
   "metadata": {},
   "outputs": [],
   "source": [
    "newdf.head()"
   ]
  },
  {
   "cell_type": "code",
   "execution_count": null,
   "id": "creative-upgrade",
   "metadata": {},
   "outputs": [],
   "source": [
    "newdf.loc[:,['C','D']]"
   ]
  },
  {
   "cell_type": "code",
   "execution_count": null,
   "id": "political-anderson",
   "metadata": {},
   "outputs": [],
   "source": [
    "newdf.loc[[1,2],:]"
   ]
  },
  {
   "cell_type": "code",
   "execution_count": null,
   "id": "reflected-dealing",
   "metadata": {},
   "outputs": [],
   "source": [
    "newdf.loc[(newdf['A']<0.3) & (newdf['C']>0.1)]"
   ]
  },
  {
   "cell_type": "code",
   "execution_count": null,
   "id": "constant-reputation",
   "metadata": {},
   "outputs": [],
   "source": [
    "newdf.head(2)"
   ]
  },
  {
   "cell_type": "code",
   "execution_count": null,
   "id": "documented-senator",
   "metadata": {},
   "outputs": [],
   "source": [
    "newdf['E'][0]"
   ]
  },
  {
   "cell_type": "code",
   "execution_count": null,
   "id": "joint-seeker",
   "metadata": {},
   "outputs": [],
   "source": [
    "newdf.iloc[0,4]"
   ]
  },
  {
   "cell_type": "code",
   "execution_count": null,
   "id": "brilliant-ladder",
   "metadata": {},
   "outputs": [],
   "source": [
    "newdf.iloc[[0,1],[1,2]]"
   ]
  },
  {
   "cell_type": "code",
   "execution_count": null,
   "id": "better-packaging",
   "metadata": {},
   "outputs": [],
   "source": [
    "newdf['A'][0] = 7756"
   ]
  },
  {
   "cell_type": "code",
   "execution_count": null,
   "id": "suited-proxy",
   "metadata": {},
   "outputs": [],
   "source": [
    "newdf.head()"
   ]
  },
  {
   "cell_type": "code",
   "execution_count": null,
   "id": "distant-metropolitan",
   "metadata": {},
   "outputs": [],
   "source": [
    "newdf.drop(['A','D'],axis=1,inplace=True)"
   ]
  },
  {
   "cell_type": "code",
   "execution_count": null,
   "id": "furnished-smell",
   "metadata": {},
   "outputs": [],
   "source": [
    "newdf"
   ]
  },
  {
   "cell_type": "code",
   "execution_count": null,
   "id": "packed-silly",
   "metadata": {},
   "outputs": [],
   "source": [
    "newdf.drop([1,5],axis=0,inplace=True)"
   ]
  },
  {
   "cell_type": "code",
   "execution_count": null,
   "id": "advisory-leadership",
   "metadata": {},
   "outputs": [],
   "source": [
    "newdf.head(3)\n"
   ]
  },
  {
   "cell_type": "code",
   "execution_count": null,
   "id": "artificial-cigarette",
   "metadata": {},
   "outputs": [],
   "source": [
    "newdf.reset_index(drop=True,inplace=True)"
   ]
  },
  {
   "cell_type": "code",
   "execution_count": null,
   "id": "infinite-bulgarian",
   "metadata": {},
   "outputs": [],
   "source": [
    "newdf"
   ]
  },
  {
   "cell_type": "code",
   "execution_count": null,
   "id": "buried-participant",
   "metadata": {},
   "outputs": [],
   "source": [
    "newdf.loc[:,['B']] = 56"
   ]
  },
  {
   "cell_type": "code",
   "execution_count": null,
   "id": "medium-zoning",
   "metadata": {},
   "outputs": [],
   "source": [
    "newdf"
   ]
  },
  {
   "cell_type": "code",
   "execution_count": null,
   "id": "wooden-dominant",
   "metadata": {},
   "outputs": [],
   "source": [
    "newdf['B'].isnull()"
   ]
  },
  {
   "cell_type": "code",
   "execution_count": null,
   "id": "worse-qualification",
   "metadata": {},
   "outputs": [],
   "source": [
    "newdf"
   ]
  },
  {
   "cell_type": "code",
   "execution_count": null,
   "id": "compliant-sunglasses",
   "metadata": {},
   "outputs": [],
   "source": [
    "newdf['C'] = 67"
   ]
  },
  {
   "cell_type": "code",
   "execution_count": null,
   "id": "indoor-latin",
   "metadata": {},
   "outputs": [],
   "source": [
    "newdf"
   ]
  },
  {
   "cell_type": "code",
   "execution_count": null,
   "id": "gorgeous-illinois",
   "metadata": {},
   "outputs": [],
   "source": [
    "newdf.drop('c',axis=1,inplace=True)"
   ]
  },
  {
   "cell_type": "code",
   "execution_count": null,
   "id": "unauthorized-retailer",
   "metadata": {},
   "outputs": [],
   "source": [
    "newdf"
   ]
  },
  {
   "cell_type": "code",
   "execution_count": null,
   "id": "african-italic",
   "metadata": {},
   "outputs": [],
   "source": [
    "df = pd.DataFrame({\"name\": ['Alfred', 'Batman', 'Alfred'],\n",
    "                   \"toy\": [np.nan, 'Batmobile', 'Bullwhip'],\n",
    "                   \"born\": [pd.NaT, pd.Timestamp(\"1940-04-25\"),\n",
    "                            pd.NaT]})"
   ]
  },
  {
   "cell_type": "code",
   "execution_count": null,
   "id": "missing-differential",
   "metadata": {},
   "outputs": [],
   "source": [
    "df.head()"
   ]
  },
  {
   "cell_type": "code",
   "execution_count": null,
   "id": "assigned-entity",
   "metadata": {},
   "outputs": [],
   "source": [
    "df.dropna(how='all',axis=1)"
   ]
  },
  {
   "cell_type": "code",
   "execution_count": null,
   "id": "metropolitan-portfolio",
   "metadata": {},
   "outputs": [],
   "source": [
    "df.drop_duplicates(subset=['name'], keep=False)"
   ]
  },
  {
   "cell_type": "code",
   "execution_count": null,
   "id": "hungarian-worry",
   "metadata": {},
   "outputs": [],
   "source": [
    "df.shape"
   ]
  },
  {
   "cell_type": "code",
   "execution_count": null,
   "id": "raising-michigan",
   "metadata": {},
   "outputs": [],
   "source": [
    "df.info()"
   ]
  },
  {
   "cell_type": "code",
   "execution_count": null,
   "id": "taken-vertical",
   "metadata": {},
   "outputs": [],
   "source": [
    "df['toy'].value_counts(dropna=False)"
   ]
  },
  {
   "cell_type": "code",
   "execution_count": null,
   "id": "tutorial-arbitration",
   "metadata": {},
   "outputs": [],
   "source": [
    "df.notnull()"
   ]
  },
  {
   "cell_type": "code",
   "execution_count": null,
   "id": "portable-filing",
   "metadata": {},
   "outputs": [],
   "source": [
    "df.isnull()"
   ]
  },
  {
   "cell_type": "code",
   "execution_count": null,
   "id": "existing-restaurant",
   "metadata": {},
   "outputs": [],
   "source": [
    "data = pd.read_excel('data.xlsx',sheet_name='Sheet2')"
   ]
  },
  {
   "cell_type": "code",
   "execution_count": null,
   "id": "macro-portfolio",
   "metadata": {},
   "outputs": [],
   "source": [
    "data"
   ]
  },
  {
   "cell_type": "code",
   "execution_count": null,
   "id": "headed-founder",
   "metadata": {},
   "outputs": [],
   "source": [
    "data.iloc[0,0] = 34\n"
   ]
  },
  {
   "cell_type": "code",
   "execution_count": null,
   "id": "behind-geometry",
   "metadata": {},
   "outputs": [],
   "source": [
    "data"
   ]
  },
  {
   "cell_type": "code",
   "execution_count": null,
   "id": "passing-advantage",
   "metadata": {},
   "outputs": [],
   "source": [
    "data.to_excel('data.xlsx',sheet_name='Sheet2')"
   ]
  },
  {
   "cell_type": "code",
   "execution_count": null,
   "id": "hindu-missile",
   "metadata": {},
   "outputs": [],
   "source": []
  }
 ],
 "metadata": {
  "kernelspec": {
   "display_name": "Python 3",
   "language": "python",
   "name": "python3"
  },
  "language_info": {
   "codemirror_mode": {
    "name": "ipython",
    "version": 3
   },
   "file_extension": ".py",
   "mimetype": "text/x-python",
   "name": "python",
   "nbconvert_exporter": "python",
   "pygments_lexer": "ipython3",
   "version": "3.9.2"
  }
 },
 "nbformat": 4,
 "nbformat_minor": 5
}
